{
 "cells": [
  {
   "cell_type": "code",
   "execution_count": 1,
   "metadata": {},
   "outputs": [],
   "source": [
    "%load_ext autoreload\n",
    "%autoreload 2"
   ]
  },
  {
   "cell_type": "markdown",
   "metadata": {},
   "source": [
    "# Submesh Generation v2"
   ]
  },
  {
   "cell_type": "markdown",
   "metadata": {},
   "source": [
    "Whereas my previous implementation of submeshes using meshview created a new mesh for each of the one-dimensional submeshes, I would rather want to only create a single lower-dimensional mesh for different types of boundary conditions.\n",
    "\n",
    "The steps required will be:\n",
    "* Load mesh, subdomain info, and facet info as usual.\n",
    "* Create a \"characteristic meshfunction\" for facets labeled by a specific set of values.\n",
    "* Create a submesh for each of the subdomains.\n",
    "* Create a facetmap on each subdomain and map the boundary tags onto this facetmap.\n",
    "    * Verify correctness using VTK Plotter\n",
    "* Create a cellmap on the interface-mesh.\n",
    "    * Verify cerrectness using VTK Plotter\n",
    "* Attempt to define a characteristic equation on parts of the interface mesh.\n",
    "    * Verify using VTK Plotter"
   ]
  },
  {
   "cell_type": "code",
   "execution_count": 2,
   "metadata": {},
   "outputs": [],
   "source": [
    "from pathlib import Path\n",
    "\n",
    "import h5py\n",
    "\n",
    "import numpy as np\n",
    "import matplotlib.pyplot as plt\n",
    "from dolfin import *\n",
    "\n",
    "from neuralthreesome.meshprocessing import geo2hdf, hdf2fenics\n",
    "from neuralthreesome.subdomains import create_submesh, tag_interface_subdomains, tag_subdomain_facets\n",
    "from neuralthreesome.characteristic_equation import Characteristic"
   ]
  },
  {
   "cell_type": "code",
   "execution_count": 3,
   "metadata": {},
   "outputs": [],
   "source": [
    "# Path to any results.\n",
    "resultspath = Path('../results/')\n",
    "resultspath.mkdir(parents=True, exist_ok=True)\n",
    "\n",
    "# Path to gmsh-file, and where to output the resulting meshfile\n",
    "geofile = \"../resources/test-domain.geo\"\n",
    "meshfile = \"../mesh/test.h5\"\n",
    "\n",
    "# Create mesh from the gmsh-file\n",
    "geo2hdf(geofile, meshfile, cleanup=False)\n",
    "\n",
    "# Load the mesh and the MeshFunctions tagging the different subdomains.\n",
    "mesh, subdomain_tags, boundary_tags = hdf2fenics(meshfile)\n",
    "\n",
    "iface = create_submesh(mesh, boundary_tags, [3, 4])\n",
    "sub1 = create_submesh(mesh, subdomain_tags, [1])\n",
    "sub2 = create_submesh(mesh, subdomain_tags, [2])\n",
    "interface_tags = tag_interface_subdomains(iface, boundary_tags)\n",
    "subdomain_boundaries = tag_subdomain_facets(mesh, sub1, boundary_tags, [1, 3, 4])"
   ]
  },
  {
   "cell_type": "code",
   "execution_count": 4,
   "metadata": {},
   "outputs": [],
   "source": [
    "V = FunctionSpace(sub1, \"CG\", 1)\n",
    "W = FunctionSpace(iface, \"CG\", 1)\n",
    "chi = Characteristic(interface_tags, 3)\n",
    "chi = interpolate(chi, W)\n",
    "w = Expression(\"x[1] * x[1]\", degree=1)\n",
    "\n",
    "u = Function(W)\n",
    "u += chi * w\n",
    "\n",
    "file = File(str(\"newfile.pvd\"))\n",
    "file << subdomain_boundaries\n",
    "file << interface_tags\n",
    "file << project(u, W)"
   ]
  }
 ],
 "metadata": {
  "kernelspec": {
   "display_name": "Python 3",
   "language": "python",
   "name": "python3"
  },
  "language_info": {
   "codemirror_mode": {
    "name": "ipython",
    "version": 3
   },
   "file_extension": ".py",
   "mimetype": "text/x-python",
   "name": "python",
   "nbconvert_exporter": "python",
   "pygments_lexer": "ipython3",
   "version": "3.6.9"
  }
 },
 "nbformat": 4,
 "nbformat_minor": 4
}
