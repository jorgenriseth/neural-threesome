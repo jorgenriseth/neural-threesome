{
 "cells": [
  {
   "cell_type": "code",
   "execution_count": 1,
   "metadata": {},
   "outputs": [],
   "source": [
    "%load_ext autoreload\n",
    "%autoreload 2"
   ]
  },
  {
   "cell_type": "markdown",
   "metadata": {},
   "source": [
    "# Mesh Refinement and Convergence"
   ]
  },
  {
   "cell_type": "code",
   "execution_count": 2,
   "metadata": {},
   "outputs": [],
   "source": [
    "import json\n",
    "from pathlib import Path\n",
    "\n",
    "from dolfin import *\n",
    "import dolfin as df\n",
    "import numpy as np\n",
    "import matplotlib.pyplot as plt\n",
    "\n",
    "import neuralthreesome.Glutamate as gm"
   ]
  },
  {
   "cell_type": "code",
   "execution_count": 3,
   "metadata": {},
   "outputs": [],
   "source": [
    "def copy_state(state: gm.GlModel.State) -> gm.GlModel.State:\n",
    "    return gm.GlModel.State(state.g.copy(True), state.m_AMPA.copy(True))"
   ]
  },
  {
   "cell_type": "code",
   "execution_count": 4,
   "metadata": {},
   "outputs": [],
   "source": [
    "def state_init_zero(V: FunctionSpace, V_interface: FunctionSpace):\n",
    "    g0 = df.interpolate(Constant(0.0), V)\n",
    "    m_AMPA0 = df.interpolate(Constant(0.0), V_interface)\n",
    "    return gm.GlModel.State(g0, m_AMPA0)"
   ]
  },
  {
   "cell_type": "code",
   "execution_count": 5,
   "metadata": {},
   "outputs": [],
   "source": [
    "class Errs():\n",
    "    def __init__(self) -> None:\n",
    "        self.dts = []\n",
    "        self.errs = []\n",
    "        self.interface_errs = []\n",
    "\n",
    "    def add_entry(self, dt: float, err: float, interface_err: float) -> None:\n",
    "        self.dts.append(dt)\n",
    "        self.errs.append(err)\n",
    "        self.interface_errs.append(interface_err)\n",
    "\n",
    "    def save_json(self, filepath: Path) -> None:\n",
    "        json_obj = json.dumps(self.__dict__, indent=4)\n",
    "        with open(str(filepath), \"w\") as file:\n",
    "            file.write(json_obj)\n",
    "\n",
    "    def load_json(self, filepath: Path) -> None:\n",
    "        json_obj = None\n",
    "        with open(str(filepath), \"r\") as file:\n",
    "            json_obj = json.load(file)\n",
    "            self.dts = json_obj[\"dts\"]\n",
    "            self.errs = json_obj[\"errs\"]"
   ]
  },
  {
   "cell_type": "code",
   "execution_count": 6,
   "metadata": {},
   "outputs": [],
   "source": [
    "def solve_glutamate(mesh_path: Path, output_path: Path, dt, ts=None):\n",
    "    if ts is None:\n",
    "        ts = (0.0, 1.0)\n",
    "        \n",
    "    subdom_dict = gm.GlModel.subdom_dict\n",
    "    boundary_dict = gm.GlModel.boundary_dict\n",
    "    \n",
    "    gl_mesh = gm.GlMesh()\n",
    "    gl_mesh.load_xdmf(mesh_path, subdom_dict, boundary_dict)\n",
    "    \n",
    "    model = gm.GlModel(gl_mesh)\n",
    "    solver = gm.Solver(model)\n",
    "    solver.out_path = output_path\n",
    "    \n",
    "    # define stimulus\n",
    "    stimulus = gm.VesicleMSD(model, ti=[0.1,], offsets=[-0.8,])\n",
    "    solution, _ = solver.solve(state_init_zero(model.V, model.Vpostsyn), stimulus, ts=ts, dt=dt)\n",
    "    return solution"
   ]
  },
  {
   "cell_type": "code",
   "execution_count": 8,
   "metadata": {
    "scrolled": false
   },
   "outputs": [
    {
     "name": "stdout",
     "output_type": "stream",
     "text": [
      "Solving reference solution for rel. convergence: dt=0.01\n",
      "Vpostsyn actually postsyn:  post-synaptic terminal\n"
     ]
    },
    {
     "name": "stderr",
     "output_type": "stream",
     "text": [
      "100%|██████████| 100/100 [00:08<00:00, 12.11it/s]\n"
     ]
    },
    {
     "name": "stdout",
     "output_type": "stream",
     "text": [
      "Vpostsyn actually postsyn:  post-synaptic terminal\n"
     ]
    },
    {
     "name": "stderr",
     "output_type": "stream",
     "text": [
      "100%|██████████| 10/10 [00:00<00:00, 12.15it/s]\n"
     ]
    },
    {
     "name": "stdout",
     "output_type": "stream",
     "text": [
      "d_g =  67548.28444166518\n",
      "d_m_AMPA inf\n",
      "Vpostsyn actually postsyn:  post-synaptic terminal\n"
     ]
    },
    {
     "name": "stderr",
     "output_type": "stream",
     "text": [
      "100%|██████████| 20/20 [00:01<00:00, 11.89it/s]\n"
     ]
    },
    {
     "name": "stdout",
     "output_type": "stream",
     "text": [
      "d_g =  3830.098270180151\n",
      "d_m_AMPA inf\n",
      "Vpostsyn actually postsyn:  post-synaptic terminal\n"
     ]
    },
    {
     "name": "stderr",
     "output_type": "stream",
     "text": [
      "100%|██████████| 40/40 [00:03<00:00, 11.68it/s]\n"
     ]
    },
    {
     "name": "stdout",
     "output_type": "stream",
     "text": [
      "d_g =  3815.9896309775754\n",
      "d_m_AMPA inf\n",
      "Vpostsyn actually postsyn:  post-synaptic terminal\n"
     ]
    },
    {
     "name": "stderr",
     "output_type": "stream",
     "text": [
      "100%|██████████| 100/100 [00:08<00:00, 11.63it/s]\n"
     ]
    },
    {
     "name": "stdout",
     "output_type": "stream",
     "text": [
      "d_g =  4568.935686880384\n",
      "d_m_AMPA inf\n"
     ]
    }
   ],
   "source": [
    "# load mesh\n",
    "mesh_path = Path(\"../notebooks/synapse_mesh/\")\n",
    "\n",
    "# Errors path\n",
    "err_obj = Errs()\n",
    "err_path = Path(\"../data/Refinements/dt_errs.json\")\n",
    "\n",
    "dt_inf = 1e-2 # asymptotically small time interval as reference \n",
    "                # for relative convergence\n",
    "\n",
    "print(\"Solving reference solution for rel. convergence: dt={}\".format(dt_inf))\n",
    "\n",
    "output_path = Path(\"../data/Refinements/dt{:.2}\".format(dt_inf))\n",
    "ref_sol = solve_glutamate(mesh_path, output_path, dt_inf)\n",
    "dts = [1e-1, 5e-2, 2.5e-2, 1e-2]\n",
    "for i, dt in enumerate(dts):\n",
    "    output_path = Path(\"../data/Refinements/dt{:.2f}\".format(dt))\n",
    "    sol = solve_glutamate(mesh_path, output_path, dt)\n",
    "    err_g = df.errornorm(ref_sol.g, sol.g, \"L2\")\n",
    "    err_m_AMPA = df.errornorm(ref_sol.m_AMPA, sol.m_AMPA, \"L2\")\n",
    "    err_obj.add_entry(dt, err_g, err_m_AMPA)\n",
    "    print(\"d_g = \", err_g)\n",
    "    print(\"d_m_AMPA\", err_m_AMPA)\n",
    "\n",
    "err_obj.save_json(err_path)"
   ]
  },
  {
   "cell_type": "code",
   "execution_count": null,
   "metadata": {},
   "outputs": [],
   "source": [
    "def solve_glutamate_problem()"
   ]
  },
  {
   "cell_type": "code",
   "execution_count": null,
   "metadata": {},
   "outputs": [],
   "source": [
    "## Time Refinement\n",
    "\n",
    "def glutamate_time_convergence(timesteps, meshfile, geofile):"
   ]
  }
 ],
 "metadata": {
  "kernelspec": {
   "display_name": "Python 3 (ipykernel)",
   "language": "python",
   "name": "python3"
  },
  "language_info": {
   "codemirror_mode": {
    "name": "ipython",
    "version": 3
   },
   "file_extension": ".py",
   "mimetype": "text/x-python",
   "name": "python",
   "nbconvert_exporter": "python",
   "pygments_lexer": "ipython3",
   "version": "3.10.6"
  }
 },
 "nbformat": 4,
 "nbformat_minor": 4
}
