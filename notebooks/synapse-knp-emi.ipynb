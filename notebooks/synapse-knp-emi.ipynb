{
 "cells": [
  {
   "cell_type": "code",
   "execution_count": 1,
   "metadata": {},
   "outputs": [],
   "source": [
    "# Make jupyter include changes to source code, without having to restart.\n",
    "%load_ext autoreload\n",
    "%autoreload 2"
   ]
  },
  {
   "cell_type": "code",
   "execution_count": 9,
   "metadata": {},
   "outputs": [],
   "source": [
    "import h5py # For some reason, needs to be imported first\n",
    "\n",
    "import os\n",
    "import sys\n",
    "from pathlib import Path\n",
    "from typing import List\n",
    "\n",
    "from dolfin import *\n",
    "from dolfin.function.argument import Argument\n",
    "import numpy as np\n",
    "import matplotlib.pyplot as plt\n",
    "\n",
    "from neuralthreesome.solver_knpemi import Solver as SolverKNPEMI\n",
    "from neuralthreesome.meshprocessing import hdf2fenics, geo2hdf\n",
    "from neuralthreesome.subdomains import SubMeshCollection, FacetDomainInfo, SubDomainInfo\n",
    "from neuralthreesome.ion import Ion, get_default_ion_list\n",
    "from neuralthreesome.parameters import get_default_parameters\n",
    "from neuralthreesome.solver_synapse import SynapseSolver, unpack_function_space"
   ]
  },
  {
   "cell_type": "markdown",
   "metadata": {},
   "source": [
    "## General Setup"
   ]
  },
  {
   "cell_type": "code",
   "execution_count": 1,
   "metadata": {},
   "outputs": [
    {
     "ename": "NameError",
     "evalue": "name 'Path' is not defined",
     "output_type": "error",
     "traceback": [
      "\u001b[0;31m---------------------------------------------------------------------------\u001b[0m",
      "\u001b[0;31mNameError\u001b[0m                                 Traceback (most recent call last)",
      "Input \u001b[0;32mIn [1]\u001b[0m, in \u001b[0;36m<cell line: 2>\u001b[0;34m()\u001b[0m\n\u001b[1;32m      1\u001b[0m \u001b[38;5;66;03m# Path to any results.\u001b[39;00m\n\u001b[0;32m----> 2\u001b[0m resultspath \u001b[38;5;241m=\u001b[39m \u001b[43mPath\u001b[49m(\u001b[38;5;124m'\u001b[39m\u001b[38;5;124m../results/\u001b[39m\u001b[38;5;124m'\u001b[39m)\n\u001b[1;32m      3\u001b[0m resultspath\u001b[38;5;241m.\u001b[39mmkdir(parents\u001b[38;5;241m=\u001b[39m\u001b[38;5;28;01mTrue\u001b[39;00m, exist_ok\u001b[38;5;241m=\u001b[39m\u001b[38;5;28;01mTrue\u001b[39;00m)\n\u001b[1;32m      5\u001b[0m \u001b[38;5;66;03m# Path to gmsh-file, and where to output the resulting meshfile\u001b[39;00m\n",
      "\u001b[0;31mNameError\u001b[0m: name 'Path' is not defined"
     ]
    }
   ],
   "source": [
    "# Path to any results.\n",
    "resultspath = Path('../results/')\n",
    "resultspath.mkdir(parents=True, exist_ok=True)\n",
    "\n",
    "# Path to gmsh-file, and where to output the resulting meshfile\n",
    "geofile = \"../resources/synapse-simple.geo\"\n",
    "meshfile = \"../mesh/synapse-simple.h5\"\n",
    "\n",
    "# Create mesh from the gmsh-file\n",
    "geo2hdf(geofile, meshfile, cleanup=False)\n",
    "\n",
    "# Load the mesh and the MeshFunctions tagging the different subdomains.\n",
    "mesh, subdomain_tags, boundary_tags = hdf2fenics(meshfile)\n",
    "\n",
    "\n",
    "# Information of subdomains.\n",
    "subdomain_info = [\n",
    "    SubDomainInfo(\n",
    "        name=\"exterior\",\n",
    "        value=1,\n",
    "        interfaces=[\"post-membrane\", \"post-terminal\"],\n",
    "        ext_bdrys=['empty', 'pre', 'astrocytes']\n",
    "    ),\n",
    "    SubDomainInfo(\n",
    "        name=\"interior\",\n",
    "        value=2,\n",
    "        interfaces=[\"post-membrane\", \"post-terminal\"],\n",
    "        ext_bdrys=[\"post-boundary\"]\n",
    "    )\n",
    "]\n",
    "\n",
    "# Add information about boundaries and interfaces.\n",
    "boundary_info = [\n",
    "    FacetDomainInfo(\"pre\", 1),\n",
    "    FacetDomainInfo(\"astrocytes\", 2),\n",
    "    FacetDomainInfo(\"post-membrane\", 3, bordering_regions=(\"interior\", \"exterior\")),\n",
    "    FacetDomainInfo(\"post-terminal\", 4, bordering_regions=(\"interior\", \"exterior\")),\n",
    "    FacetDomainInfo(\"post-boundary\", 5),\n",
    "    FacetDomainInfo(\"empty\", 6)\n",
    "]\n",
    "\n",
    "# Create a collection of submeshes for the subdomains and boundaries.\n",
    "domain = SubMeshCollection(mesh, subdomain_tags, boundary_tags, subdomain_info, boundary_info)\n",
    "\n",
    "# Write the facet MeshFunctionSizet from each submesh to a paraview-inspectable \n",
    "# file to verify correctness.\n",
    "test_vtk = File(str(resultspath / \"test_boundaries.pvd\"))\n",
    "for subdomain in domain.subdomains:\n",
    "    test_vtk << subdomain.boundary_tags\n",
    "\n",
    "# How to access mesh of a specific subdomain\n",
    "plot(domain.subdomains[0])\n",
    "plt.show()"
   ]
  },
  {
   "cell_type": "code",
   "execution_count": 11,
   "metadata": {},
   "outputs": [],
   "source": [
    "def set_ion_conductivities(ions: List[float], params):\n",
    "    for ion in ions:\n",
    "        ion.g_k = params[\"g_{}_leak\".format(ion.name)]\n",
    "    return ions\n",
    "\n",
    "def add_ion_conductivity(ions: List[float], ion_name: str, conductivity: float):\n",
    "    for ion in ions:\n",
    "        if ion.name == ion_name:\n",
    "            ion.g_k += conductivity"
   ]
  },
  {
   "cell_type": "code",
   "execution_count": 43,
   "metadata": {},
   "outputs": [],
   "source": [
    "# time variables (seconds)\n",
    "dt = 0.2e-5                 # global time step (s)\n",
    "Tstop = 1.0e-4                  # global end time (s)\n",
    "\n",
    "params = get_default_parameters()\n",
    "ion_list = get_default_ion_list(params)\n",
    "\n",
    "# synaptic current\n",
    "g_syn_C1 = Expression(\n",
    "    'g_syn_bar*(x[0] <= 40e-6)',\n",
    "    g_syn_bar=params['g_syn_bar'],\n",
    "    degree=4\n",
    ")\n",
    "\n",
    "t_1a = Constant(0.0)                                        # time constant? IS this word correct?\n",
    "fname_1a = resultspath / \"test\"\n",
    "\n",
    "set_ion_conductivities(ion_list, params)\n",
    "add_ion_conductivity(ion_list, \"Na\", g_syn_C1)\n",
    "\n",
    "\n",
    "# solve system\n",
    "solver = SynapseSolver(domain, ion_list, t_1a, lagrange_tag=\"exterior\", **params)  # create solver"
   ]
  },
  {
   "cell_type": "code",
   "execution_count": 44,
   "metadata": {},
   "outputs": [
    {
     "name": "stderr",
     "output_type": "stream",
     "text": [
      "100%|██████████| 50/50 [00:04<00:00, 10.15it/s]\n"
     ]
    }
   ],
   "source": [
    "solver.solve_system_passive(dt, Tstop, filename=str(resultspath))           # solve"
   ]
  },
  {
   "cell_type": "markdown",
   "metadata": {},
   "source": [
    "# GRAVEYARD"
   ]
  },
  {
   "cell_type": "code",
   "execution_count": 13,
   "metadata": {},
   "outputs": [
    {
     "ename": "TypeError",
     "evalue": "unsupported operand type(s) for /: 'float' and 'SubMeshCollection'",
     "output_type": "error",
     "traceback": [
      "\u001b[0;31m---------------------------------------------------------------------------\u001b[0m",
      "\u001b[0;31mTypeError\u001b[0m                                 Traceback (most recent call last)",
      "\u001b[0;32m<ipython-input-13-cbd5e2219882>\u001b[0m in \u001b[0;36m<module>\u001b[0;34m\u001b[0m\n\u001b[1;32m      6\u001b[0m \u001b[0;34m\u001b[0m\u001b[0m\n\u001b[1;32m      7\u001b[0m \u001b[0msolver\u001b[0m \u001b[0;34m=\u001b[0m \u001b[0mSynapseSolver\u001b[0m\u001b[0;34m(\u001b[0m\u001b[0mdomain\u001b[0m\u001b[0;34m,\u001b[0m \u001b[0mion_list\u001b[0m\u001b[0;34m,\u001b[0m \u001b[0mConstant\u001b[0m\u001b[0;34m(\u001b[0m\u001b[0;36m0.0\u001b[0m\u001b[0;34m)\u001b[0m\u001b[0;34m,\u001b[0m \u001b[0mlagrange_tag\u001b[0m\u001b[0;34m=\u001b[0m\u001b[0;34m\"exterior\"\u001b[0m\u001b[0;34m,\u001b[0m \u001b[0;34m**\u001b[0m\u001b[0mparams\u001b[0m\u001b[0;34m)\u001b[0m\u001b[0;34m\u001b[0m\u001b[0;34m\u001b[0m\u001b[0m\n\u001b[0;32m----> 8\u001b[0;31m \u001b[0msolver\u001b[0m\u001b[0;34m.\u001b[0m\u001b[0mcreate_variational_form\u001b[0m\u001b[0;34m(\u001b[0m\u001b[0mdomain\u001b[0m\u001b[0;34m,\u001b[0m \u001b[0;34m\"exterior\"\u001b[0m\u001b[0;34m)\u001b[0m\u001b[0;34m\u001b[0m\u001b[0;34m\u001b[0m\u001b[0m\n\u001b[0m\u001b[1;32m      9\u001b[0m \u001b[0;34m\u001b[0m\u001b[0m\n\u001b[1;32m     10\u001b[0m \u001b[0;31m# Define Test and TrialFunctions\u001b[0m\u001b[0;34m\u001b[0m\u001b[0;34m\u001b[0m\u001b[0;34m\u001b[0m\u001b[0m\n",
      "\u001b[0;32m~/neural-threesome/neuralthreesome/solver_synapse.py\u001b[0m in \u001b[0;36mcreate_variational_form\u001b[0;34m(self, dt, domain, lagrange_tag)\u001b[0m\n\u001b[1;32m    112\u001b[0m         \u001b[0mparams\u001b[0m \u001b[0;34m=\u001b[0m \u001b[0mself\u001b[0m\u001b[0;34m.\u001b[0m\u001b[0mparams\u001b[0m\u001b[0;34m\u001b[0m\u001b[0;34m\u001b[0m\u001b[0m\n\u001b[1;32m    113\u001b[0m         \u001b[0;31m# dt = params[\"dt\"]  # global time step (s)\u001b[0m\u001b[0;34m\u001b[0m\u001b[0;34m\u001b[0m\u001b[0;34m\u001b[0m\u001b[0m\n\u001b[0;32m--> 114\u001b[0;31m         \u001b[0mdt_inv\u001b[0m \u001b[0;34m=\u001b[0m \u001b[0mConstant\u001b[0m\u001b[0;34m(\u001b[0m\u001b[0;36m1.0\u001b[0m \u001b[0;34m/\u001b[0m \u001b[0mdt\u001b[0m\u001b[0;34m)\u001b[0m  \u001b[0;31m# invert global time step (1/s)\u001b[0m\u001b[0;34m\u001b[0m\u001b[0;34m\u001b[0m\u001b[0m\n\u001b[0m\u001b[1;32m    115\u001b[0m         \u001b[0mF\u001b[0m \u001b[0;34m=\u001b[0m \u001b[0mparams\u001b[0m\u001b[0;34m[\u001b[0m\u001b[0;34m\"F\"\u001b[0m\u001b[0;34m]\u001b[0m  \u001b[0;31m# Faraday's constant (C/mol)\u001b[0m\u001b[0;34m\u001b[0m\u001b[0;34m\u001b[0m\u001b[0m\n\u001b[1;32m    116\u001b[0m         \u001b[0mR\u001b[0m \u001b[0;34m=\u001b[0m \u001b[0mparams\u001b[0m\u001b[0;34m[\u001b[0m\u001b[0;34m\"R\"\u001b[0m\u001b[0;34m]\u001b[0m  \u001b[0;31m# Gas constant (J/(K*mol))\u001b[0m\u001b[0;34m\u001b[0m\u001b[0;34m\u001b[0m\u001b[0m\n",
      "\u001b[0;31mTypeError\u001b[0m: unsupported operand type(s) for /: 'float' and 'SubMeshCollection'"
     ]
    }
   ],
   "source": [
    "def check_missing_blocks(solver):\n",
    "    alist = extract_blocks(solver.a)\n",
    "    Llist = extract_blocks(solver.L)\n",
    "    for idx, ai in enumerate(alist):\n",
    "        print(idx, ai is None)\n",
    "\n",
    "solver = SynapseSolver(domain, ion_list, Constant(0.0), lagrange_tag=\"exterior\", **params)\n",
    "solver.create_variational_form(domain, \"exterior\")\n",
    "\n",
    "# Define Test and TrialFunctions\n",
    "u, I = unpack_function_space(TrialFunctions(solver.W), solver)\n",
    "v, q = unpack_function_space(TestFunctions(solver.W), solver)\n",
    "\n",
    "alist = extract_blocks(solver.a)\n",
    "Llist = extract_blocks(solver.L)\n",
    "\n",
    "# A = MixedLinearVariationalProblem(alist, Llist, solver.wh.split(), [])\n",
    "\n",
    "iface = domain.interfaces[0]\n",
    "\n",
    "# for iface in domain.interfaces:\n",
    "check_missing_blocks(solver)\n",
    "\n",
    "alist = extract_blocks(solver.a)\n",
    "Llist = extract_blocks(solver.L)\n",
    "\n",
    "# MixedLinearVariationalProblem(alist, Llist, solver.wh.split(), [])\n",
    "print(\" ==== Assemble L ===== \")\n",
    "for i in range(4):\n",
    "    try: \n",
    "        print(assemble_mixed(Llist[i]))\n",
    "    except ValueError as e:\n",
    "        print(e)\n",
    "\n",
    "print()\n",
    "print(\" ==== Assemble A ===== \")\n",
    "\n",
    "for i in range(16):\n",
    "    print(i, end=\" \")\n",
    "    try:\n",
    "        print(assemble_mixed(alist[i]))\n",
    "    except (ValueError, AttributeError) as e:\n",
    "        print(e)\n",
    "\n",
    "assemble_mixed_system(solver.a == solver.L, solver.wh, [])"
   ]
  }
 ],
 "metadata": {
  "kernelspec": {
   "display_name": "Python 3 (ipykernel)",
   "language": "python",
   "name": "python3"
  },
  "language_info": {
   "codemirror_mode": {
    "name": "ipython",
    "version": 3
   },
   "file_extension": ".py",
   "mimetype": "text/x-python",
   "name": "python",
   "nbconvert_exporter": "python",
   "pygments_lexer": "ipython3",
   "version": "3.10.5"
  },
  "vscode": {
   "interpreter": {
    "hash": "94bff76b3037b1b07c92799aeeb3579fce7d7ffbdd981093064dc4060814c0eb"
   }
  }
 },
 "nbformat": 4,
 "nbformat_minor": 2
}
